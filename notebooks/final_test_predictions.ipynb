{
 "cells": [
  {
   "cell_type": "markdown",
   "id": "177b21ea-878f-4118-a49a-d5e8f9fce9a7",
   "metadata": {},
   "source": [
    "## Test Data Submisson"
   ]
  },
  {
   "cell_type": "code",
   "execution_count": null,
   "id": "80a1d277-8cad-4471-898e-289e25ae0bc9",
   "metadata": {},
   "outputs": [],
   "source": [
    "import pandas as pd\n",
    "import numpy as np\n",
    "from tensorflow import keras\n",
    "from sklearn.preprocessing import StandardScaler\n",
    "\n",
    "test_data = pd.read_csv('../data/processed/test_data_processed.csv').copy()\n",
    "\n",
    "# Load the trained model\n",
    "model_path = \"../models/car_price_prediction_model.h5\"\n",
    "model = keras.models.load_model(model_path)\n",
    "\n",
    "# Select features for prediction\n",
    "selected_features = [\n",
    "    \"milage\", \"age\", \"hp\", \"engine_size\", \n",
    "    \"cylinders\", \"speed\", \"has_auto_shift\", \"accident_mapped\",\n",
    "    \"int_col_mapped\", \"ext_col_mapped\", \"luxury_category\"\n",
    "]\n",
    "\n",
    "X_test = test_data[selected_features]\n",
    "\n",
    "# Scale the features using StandardScaler\n",
    "scaler = StandardScaler()\n",
    "X_test_scaled = scaler.fit_transform(X_test)\n",
    "\n",
    "# Get predictions from the model\n",
    "predictions = model.predict(X_test_scaled).flatten()\n",
    "\n",
    "print(\"Predictions generated successfully!\")\n",
    "\n",
    "# Load the sample submission file\n",
    "submission_path = \"../data/raw/sample_submission.csv\"\n",
    "submission = pd.read_csv(submission_path)\n",
    "\n",
    "# Place predictions in the appropriate column\n",
    "submission[\"price\"] = predictions\n",
    "\n",
    "# Save the new submission file\n",
    "output_path = \"../submission/sample_submission.csv\"\n",
    "submission.to_csv(output_path, index=False)\n",
    "\n",
    "print(f\"Predictions saved successfully! → {output_path}\")"
   ]
  }
 ],
 "metadata": {
  "kernelspec": {
   "display_name": "Python [conda env:base] *",
   "language": "python",
   "name": "conda-base-py"
  },
  "language_info": {
   "codemirror_mode": {
    "name": "ipython",
    "version": 3
   },
   "file_extension": ".py",
   "mimetype": "text/x-python",
   "name": "python",
   "nbconvert_exporter": "python",
   "pygments_lexer": "ipython3",
   "version": "3.12.7"
  }
 },
 "nbformat": 4,
 "nbformat_minor": 5
}
